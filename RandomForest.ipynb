{
 "cells": [
  {
   "cell_type": "markdown",
   "metadata": {},
   "source": [
    "# Training RandomForest Model"
   ]
  },
  {
   "cell_type": "code",
   "execution_count": 1,
   "metadata": {},
   "outputs": [],
   "source": [
    "# Import Modules (RandomForest from sklearn)\n",
    "import os\n",
    "import json\n",
    "import numpy as np\n",
    "from sklearn.ensemble import RandomForestClassifier\n",
    "from sklearn.model_selection import train_test_split\n",
    "from sklearn.metrics import classification_report\n",
    "import joblib "
   ]
  },
  {
   "cell_type": "code",
   "execution_count": 2,
   "metadata": {},
   "outputs": [],
   "source": [
    "# --- Filepaths ---\n",
    "LOGS_FOLDER = \"./training_logs\"\n",
    "MODEL_SAVE_PATH = \"./trained_models/random_forest_model.pkl\""
   ]
  },
  {
   "cell_type": "code",
   "execution_count": 3,
   "metadata": {},
   "outputs": [
    {
     "name": "stdout",
     "output_type": "stream",
     "text": [
      "Loaded 100000 samples.\n"
     ]
    }
   ],
   "source": [
    "# --- Prep Data ---\n",
    "def load_logs(logs_folder):\n",
    "    features = []\n",
    "    labels = []\n",
    "    for filename in os.listdir(logs_folder):\n",
    "        if filename.endswith('.json'):\n",
    "            with open(os.path.join(logs_folder, filename), 'r') as f:\n",
    "                data = json.load(f)\n",
    "                for entry in data:\n",
    "                    pos = np.array(entry[\"position\"])\n",
    "                    num_tokens = entry[\"num_reported_tokens\"]\n",
    "                    avg_distance = np.mean([\n",
    "                        np.linalg.norm(pos - np.array(token))\n",
    "                        for token in entry[\"reported_tokens\"]\n",
    "                    ]) if entry[\"reported_tokens\"] else 0\n",
    "                    features.append(list(pos) + [num_tokens, avg_distance])\n",
    "                    labels.append(entry[\"is_byzantine\"])\n",
    "    return np.array(features), np.array(labels)\n",
    "\n",
    "X, y = load_logs(LOGS_FOLDER)\n",
    "print(f\"Loaded {len(X)} samples.\")"
   ]
  },
  {
   "cell_type": "code",
   "execution_count": 4,
   "metadata": {},
   "outputs": [
    {
     "name": "stdout",
     "output_type": "stream",
     "text": [
      "              precision    recall  f1-score   support\n",
      "\n",
      "           0       1.00      1.00      1.00     14576\n",
      "           1       1.00      1.00      1.00      5424\n",
      "\n",
      "    accuracy                           1.00     20000\n",
      "   macro avg       1.00      1.00      1.00     20000\n",
      "weighted avg       1.00      1.00      1.00     20000\n",
      "\n",
      "Model saved to random_forest_model.pkl\n"
     ]
    }
   ],
   "source": [
    "# Fit the RandomForest and save the model\n",
    "X_train, X_test, y_train, y_test = train_test_split(X, y, test_size=0.2, random_state=42)\n",
    "\n",
    "clf = RandomForestClassifier(n_estimators=100, random_state=42)\n",
    "clf.fit(X_train, y_train)\n",
    "\n",
    "preds = clf.predict(X_test)\n",
    "print(classification_report(y_test, preds))\n",
    "\n",
    "os.makedirs(\"trained_models\", exist_ok=True)\n",
    "joblib.dump(clf, MODEL_SAVE_PATH)\n",
    "print(f\"Model saved to {MODEL_SAVE_PATH}\")"
   ]
  }
 ],
 "metadata": {
  "kernelspec": {
   "display_name": "SwarmGuard",
   "language": "python",
   "name": "python3"
  },
  "language_info": {
   "codemirror_mode": {
    "name": "ipython",
    "version": 3
   },
   "file_extension": ".py",
   "mimetype": "text/x-python",
   "name": "python",
   "nbconvert_exporter": "python",
   "pygments_lexer": "ipython3",
   "version": "3.12.9"
  }
 },
 "nbformat": 4,
 "nbformat_minor": 2
}

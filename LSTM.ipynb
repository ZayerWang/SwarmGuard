{
 "cells": [
  {
   "cell_type": "markdown",
   "metadata": {},
   "source": [
    "# Training LSTM Model"
   ]
  },
  {
   "cell_type": "code",
   "execution_count": 6,
   "metadata": {},
   "outputs": [],
   "source": [
    "#Import modules (LSTM model from PyTorch)\n",
    "import os\n",
    "import json\n",
    "import numpy as np\n",
    "import torch\n",
    "import torch.nn as nn\n",
    "from Models import LSTMModel\n",
    "from torch.utils.data import DataLoader, Dataset, random_split"
   ]
  },
  {
   "cell_type": "code",
   "execution_count": 7,
   "metadata": {},
   "outputs": [],
   "source": [
    "# Parameters & filepaths\n",
    "SEQUENCE_LENGTH = 5\n",
    "BATCH_SIZE = 32\n",
    "EPOCHS = 10\n",
    "LEARNING_RATE = 0.001\n",
    "LOGS_FOLDER = \"./training_logs\"\n",
    "MODEL_SAVE_PATH = \"./trained_models/lstm_model.pth\""
   ]
  },
  {
   "cell_type": "code",
   "execution_count": 8,
   "metadata": {},
   "outputs": [],
   "source": [
    "# --- Prep Data ---\n",
    "class CommunicationDataset(Dataset):\n",
    "    def __init__(self, logs_folder, sequence_length):\n",
    "        self.sequence_length = sequence_length\n",
    "        self.samples = []\n",
    "\n",
    "        all_entries = []\n",
    "        for filename in os.listdir(logs_folder):\n",
    "            if filename.endswith('.json'):\n",
    "                with open(os.path.join(logs_folder, filename), 'r') as f:\n",
    "                    data = json.load(f)\n",
    "                    for entry in data:\n",
    "                        all_entries.append(entry)\n",
    "\n",
    "        # Group by robot_id to create sequences\n",
    "        from collections import defaultdict\n",
    "        robot_logs = defaultdict(list)\n",
    "        for entry in all_entries:\n",
    "            robot_logs[entry['robot_id']].append(entry)\n",
    "\n",
    "        for robot_id, logs in robot_logs.items():\n",
    "            logs = sorted(logs, key=lambda x: x['timestamp'])\n",
    "            if len(logs) >= sequence_length:\n",
    "                for i in range(len(logs) - sequence_length + 1):\n",
    "                    seq = logs[i:i+sequence_length]\n",
    "                    feature_seq = []\n",
    "                    label_seq = []\n",
    "                    for entry in seq:\n",
    "                        pos = np.array(entry[\"position\"])\n",
    "                        num_tokens = entry[\"num_reported_tokens\"]\n",
    "                        avg_distance = np.mean([\n",
    "                            np.linalg.norm(pos - np.array(token))\n",
    "                            for token in entry[\"reported_tokens\"]\n",
    "                        ]) if entry[\"reported_tokens\"] else 0\n",
    "                        feature_seq.append(list(pos) + [num_tokens, avg_distance])\n",
    "                        label_seq.append(entry[\"is_byzantine\"])\n",
    "                    self.samples.append((np.array(feature_seq), label_seq[-1]))  # Predict last label\n",
    "\n",
    "    def __len__(self):\n",
    "        return len(self.samples)\n",
    "\n",
    "    def __getitem__(self, idx):\n",
    "        x, y = self.samples[idx]\n",
    "        return torch.tensor(x, dtype=torch.float32), torch.tensor(y, dtype=torch.long)"
   ]
  },
  {
   "cell_type": "code",
   "execution_count": null,
   "metadata": {},
   "outputs": [
    {
     "name": "stdout",
     "output_type": "stream",
     "text": [
      "Loaded 89100 sequences.\n",
      "Epoch 1/10, Loss: 0.0000\n",
      "Epoch 2/10, Loss: 0.0000\n",
      "Epoch 3/10, Loss: 0.0000\n",
      "Epoch 4/10, Loss: 0.0000\n",
      "Epoch 5/10, Loss: 0.0000\n",
      "Epoch 6/10, Loss: 0.0000\n",
      "Epoch 7/10, Loss: 0.0000\n",
      "Epoch 8/10, Loss: 0.0000\n",
      "Epoch 9/10, Loss: 0.0000\n",
      "Epoch 10/10, Loss: 0.0000\n",
      "Test Accuracy: 100.00%\n",
      "Model saved to lstm_model.pth\n"
     ]
    }
   ],
   "source": [
    "# Train LSTM & Save at the end of the run\n",
    "dataset = CommunicationDataset(LOGS_FOLDER, SEQUENCE_LENGTH)\n",
    "print(f\"Loaded {len(dataset)} sequences.\")\n",
    "\n",
    "train_size = int(0.8 * len(dataset))\n",
    "test_size = len(dataset) - train_size\n",
    "train_dataset, test_dataset = random_split(dataset, [train_size, test_size])\n",
    "\n",
    "train_loader = DataLoader(train_dataset, batch_size=BATCH_SIZE, shuffle=True)\n",
    "test_loader = DataLoader(test_dataset, batch_size=BATCH_SIZE)\n",
    "\n",
    "model = LSTMModel(input_size=4, hidden_size=64, num_layers=1)\n",
    "criterion = nn.CrossEntropyLoss()\n",
    "optimizer = torch.optim.Adam(model.parameters(), lr=LEARNING_RATE)\n",
    "\n",
    "for epoch in range(EPOCHS):\n",
    "    model.train()\n",
    "    for x_batch, y_batch in train_loader:\n",
    "        optimizer.zero_grad()\n",
    "        output = model(x_batch)\n",
    "        loss = criterion(output, y_batch)\n",
    "        loss.backward()\n",
    "        optimizer.step()\n",
    "\n",
    "    print(f\"Epoch {epoch+1}/{EPOCHS}, Loss: {loss.item():.4f}\")\n",
    "\n",
    "# Evaluation on validation data\n",
    "model.eval()\n",
    "correct = 0\n",
    "total = 0\n",
    "with torch.no_grad():\n",
    "    for x_batch, y_batch in test_loader:\n",
    "        outputs = model(x_batch)\n",
    "        _, predicted = torch.max(outputs.data, 1)\n",
    "        total += y_batch.size(0)\n",
    "        correct += (predicted == y_batch).sum().item()\n",
    "\n",
    "print(f\"Test Accuracy: {100 * correct / total:.2f}%\")\n",
    "\n",
    "os.makedirs(\"trained_models\", exist_ok=True)\n",
    "torch.save(model.state_dict(), MODEL_SAVE_PATH)\n",
    "print(f\"Model saved to {MODEL_SAVE_PATH}\")"
   ]
  }
 ],
 "metadata": {
  "kernelspec": {
   "display_name": "PythonSwarm",
   "language": "python",
   "name": "python3"
  },
  "language_info": {
   "codemirror_mode": {
    "name": "ipython",
    "version": 3
   },
   "file_extension": ".py",
   "mimetype": "text/x-python",
   "name": "python",
   "nbconvert_exporter": "python",
   "pygments_lexer": "ipython3",
   "version": "3.12.9"
  }
 },
 "nbformat": 4,
 "nbformat_minor": 2
}
